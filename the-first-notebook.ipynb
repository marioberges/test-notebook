{
 "cells": [
  {
   "cell_type": "markdown",
   "id": "configured-hawaii",
   "metadata": {},
   "source": [
    "# The best notebook ever"
   ]
  },
  {
   "cell_type": "markdown",
   "id": "norman-decade",
   "metadata": {},
   "source": [
    "This notebook will contain crazy math:\n",
    "$$\n",
    "\\int_{-\\pi}^{\\pi}{e^x dx}\n",
    "$$\n",
    "\n",
    "And a lot of cool code."
   ]
  },
  {
   "cell_type": "code",
   "execution_count": 1,
   "id": "under-christianity",
   "metadata": {},
   "outputs": [],
   "source": [
    "import numpy as np"
   ]
  },
  {
   "cell_type": "code",
   "execution_count": 3,
   "id": "african-timber",
   "metadata": {},
   "outputs": [
    {
     "data": {
      "text/plain": [
       "array([0. , 0.5, 1. , 1.5, 2. , 2.5, 3. , 3.5, 4. , 4.5])"
      ]
     },
     "execution_count": 3,
     "metadata": {},
     "output_type": "execute_result"
    }
   ],
   "source": [
    "np.arange(0,5,.5)"
   ]
  },
  {
   "cell_type": "code",
   "execution_count": null,
   "id": "going-match",
   "metadata": {},
   "outputs": [],
   "source": []
  }
 ],
 "metadata": {
  "kernelspec": {
   "display_name": "Python 3",
   "language": "python",
   "name": "python3"
  },
  "language_info": {
   "codemirror_mode": {
    "name": "ipython",
    "version": 3
   },
   "file_extension": ".py",
   "mimetype": "text/x-python",
   "name": "python",
   "nbconvert_exporter": "python",
   "pygments_lexer": "ipython3",
   "version": "3.7.6"
  }
 },
 "nbformat": 4,
 "nbformat_minor": 5
}
